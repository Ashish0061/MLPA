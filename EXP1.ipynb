{
 "cells": [
  {
   "cell_type": "code",
   "execution_count": null,
   "id": "4d1e35f7",
   "metadata": {},
   "outputs": [
    {
     "name": "stdout",
     "output_type": "stream",
     "text": [
      "\n",
      "In 1998, Agent X27 discovered a coded message hidden in file *Delta-42B*. It referenced Project Nebula, which was terminated back in 1973. \n",
      "The message read: \"Sector-9 breached at 03:14 AM on 07/11/2025.\" Dr. Eliza K. Monroe, born in Room 404 of Lab Zeta, analyzed the data with Protocol C9X. \n",
      "Coordinates 17.392N, 78.485E matched a location in India. Meanwhile, Subject #87 escaped containment using Access Key \"R3dF0x!\" and triggered Alarm Level-5. \n",
      "The team of 7 operatives—Jake, Nia, Omar, Lila, Trent, Mei, and Zack—regrouped at Station-13. With only 48 hours left, Operation Eclipse was reactivated under Directive Code: ALPHA-990.\n",
      "\n"
     ]
    }
   ],
   "source": [
    "#PREPROCESSING\n",
    "paragraph = \"\"\"\n",
    "In 1998, Agent X27 discovered yaswanth a coded message hidden in file *Delta-42B*. It referenced Project Nebula, which was terminated back in 1973. \n",
    "The message read: \"Sector-9 breached at 03:14 AM on 07/11/2025.\" Dr. Eliza K. Monroe, born in Room 404 of Lab Zeta, analyzed the data with Protocol C9X. \n",
    "Coordinates 17.392N, 78.485E matched a location in India. Meanwhile, Subject #87 escaped containment using Access Key \"R3dF0x!\" and triggered Alarm Level-5. \n",
    "The team of 7 operatives—Jake, Nia, Omar, Lila, Trent, Mei, and Zack—regrouped at Station-13. With only 48 hours left, Operation Eclipse was reactivated under Directive Code: ALPHA-990.\n",
    "\"\"\"\n",
    "\n",
    "print(paragraph) #to print"
   ]
  },
  {
   "cell_type": "code",
   "execution_count": 2,
   "id": "ae7b4fe4",
   "metadata": {},
   "outputs": [
    {
     "name": "stdout",
     "output_type": "stream",
     "text": [
      "\n",
      "in 1998, agent x27 discovered a coded message hidden in file *delta-42b*. it referenced project nebula, which was terminated back in 1973. \n",
      "the message read: \"sector-9 breached at 03:14 am on 07/11/2025.\" dr. eliza k. monroe, born in room 404 of lab zeta, analyzed the data with protocol c9x. \n",
      "coordinates 17.392n, 78.485e matched a location in india. meanwhile, subject #87 escaped containment using access key \"r3df0x!\" and triggered alarm level-5. \n",
      "the team of 7 operatives—jake, nia, omar, lila, trent, mei, and zack—regrouped at station-13. with only 48 hours left, operation eclipse was reactivated under directive code: alpha-990.\n",
      "\n",
      "\n",
      "In 1998, Agent X27 discovered a coded message hidden in file *Delta-42B*. It referenced Project Nebula, which was terminated back in 1973. \n",
      "a message read: \"Sector-9 breached at 03:14 AM on 07/11/2025.\" Dr. Eliza K. Monroe, born in Room 404 of Lab Zeta, analyzed the data with Protocol C9X. \n",
      "Coordinates 17.392N, 78.485E matched a location in India. Meanwhile, Subject #87 escaped containment using Access Key \"R3dF0x!\" and triggered Alarm Level-5. \n",
      "a team of 7 operatives—Jake, Nia, Omar, Lila, Trent, Mei, and Zack—regrouped at Station-13. With only 48 hours left, Operation Eclipse was reactivated under Directive Code: ALPHA-990.\n",
      "\n",
      "\n",
      "#n 1998, ###nt #27 ##s#ov#r## # #o### m#ss### #####n #n ##l# *##lt#-42#*. #t r###r#n### #ro###t ###ul#, w#### w#s t#rm#n#t## ###k #n 1973. \n",
      "### m#ss### r###: \"###tor-9 #r###### #t 03:14 ## on 07/11/2025.\" #r. #l#z# #. #onro#, #orn #n #oom 404 o# ### ##t#, #n#lyz## t## ##t# w#t# #roto#ol #9#. \n",
      "#oor##n#t#s 17.392#, 78.485# m#t#### # lo##t#on #n #n###. ###nw##l#, #u####t #87 #s##p## #ont##nm#nt us#n# ####ss ##y \"#3##0x!\" #n# tr####r## #l#rm ##v#l-5. \n",
      "### t##m o# 7 op#r#t#v#s—##k#, ###, #m#r, ##l#, #r#nt, ###, #n# ###k—r##roup## #t #t#t#on-13. ##t# only 48 #ours l##t, #p#r#t#on ##l#ps# w#s r###t#v#t## un##r ##r##t#v# #o##: #####-990.\n",
      "\n",
      "\n",
      "In @, Agent X@ discovered a coded message hidden in file *Delta-@B*. It referenced Project Nebula, which was terminated back in @. \n",
      "The message read: \"Sector-@ breached at @:@ AM on @/@/@.\" Dr. Eliza K. Monroe, born in Room @ of Lab Zeta, analyzed the data with Protocol C@X. \n",
      "Coordinates @.@N, @.@E matched a location in India. Meanwhile, Subject #@ escaped containment using Access Key \"R@dF@x!\" and triggered Alarm Level-@. \n",
      "The team of @ operatives—Jake, Nia, Omar, Lila, Trent, Mei, and Zack—regrouped at Station-@. With only @ hours left, Operation Eclipse was reactivated under Directive Code: ALPHA-@.\n",
      "\n"
     ]
    }
   ],
   "source": [
    "Lcase=paragraph.lower() #converts Uppercase to lowercase\n",
    "print(Lcase) \n",
    "\n",
    "import re\n",
    "RE1=re.sub('The','a',paragraph) #to change a specific word\n",
    "RE2=re.sub('[A-j]','#',paragraph) #to change a set of letters \n",
    "RE3=re.sub(r'\\d+','@',paragraph) #to change a numbers word\n",
    "print(RE1) \n",
    "print(RE2) \n",
    "print(RE3) "
   ]
  },
  {
   "cell_type": "code",
   "execution_count": 3,
   "id": "37e235c6",
   "metadata": {},
   "outputs": [
    {
     "name": "stdout",
     "output_type": "stream",
     "text": [
      "['In', '1998', ',', 'Agent', 'X27', 'discovered', 'a', 'coded', 'message', 'hidden', 'in', 'file', '*', 'Delta-42B', '*', '.', 'It', 'referenced', 'Project', 'Nebula', ',', 'which', 'was', 'terminated', 'back', 'in', '1973', '.', 'The', 'message', 'read', ':', '``', 'Sector-9', 'breached', 'at', '03:14', 'AM', 'on', '07/11/2025', '.', \"''\", 'Dr.', 'Eliza', 'K.', 'Monroe', ',', 'born', 'in', 'Room', '404', 'of', 'Lab', 'Zeta', ',', 'analyzed', 'the', 'data', 'with', 'Protocol', 'C9X', '.', 'Coordinates', '17.392N', ',', '78.485E', 'matched', 'a', 'location', 'in', 'India', '.', 'Meanwhile', ',', 'Subject', '#', '87', 'escaped', 'containment', 'using', 'Access', 'Key', '``', 'R3dF0x', '!', \"''\", 'and', 'triggered', 'Alarm', 'Level-5', '.', 'The', 'team', 'of', '7', 'operatives—Jake', ',', 'Nia', ',', 'Omar', ',', 'Lila', ',', 'Trent', ',', 'Mei', ',', 'and', 'Zack—regrouped', 'at', 'Station-13', '.', 'With', 'only', '48', 'hours', 'left', ',', 'Operation', 'Eclipse', 'was', 'reactivated', 'under', 'Directive', 'Code', ':', 'ALPHA-990', '.']\n",
      "['\\nIn 1998, Agent X27 discovered a coded message hidden in file *Delta-42B*.', 'It referenced Project Nebula, which was terminated back in 1973.', 'The message read: \"Sector-9 breached at 03:14 AM on 07/11/2025.\"', 'Dr. Eliza K. Monroe, born in Room 404 of Lab Zeta, analyzed the data with Protocol C9X.', 'Coordinates 17.392N, 78.485E matched a location in India.', 'Meanwhile, Subject #87 escaped containment using Access Key \"R3dF0x!\"', 'and triggered Alarm Level-5.', 'The team of 7 operatives—Jake, Nia, Omar, Lila, Trent, Mei, and Zack—regrouped at Station-13.', 'With only 48 hours left, Operation Eclipse was reactivated under Directive Code: ALPHA-990.']\n",
      "128\n",
      "9\n"
     ]
    }
   ],
   "source": [
    "import nltk\n",
    "from nltk import word_tokenize,sent_tokenize\n",
    "WT=word_tokenize(paragraph) #to tokenize words\n",
    "ST=sent_tokenize(paragraph) #to tokenize sentences\n",
    "\n",
    "WL=len(WT) #for total no of tokenized words\n",
    "SL=len(ST) #for total no of tokenized sentences\n",
    "\n",
    "print(WT)\n",
    "print(ST)\n",
    "\n",
    "print(WL)\n",
    "print(SL)"
   ]
  },
  {
   "cell_type": "code",
   "execution_count": 4,
   "id": "6115a3ee",
   "metadata": {},
   "outputs": [
    {
     "name": "stdout",
     "output_type": "stream",
     "text": [
      "Lena has 3 cats and 1 dog. She bought them in 2020 from PetWorld-77. Every day at 6:00 AM, she feeds them near her porch. Her dog, Max, wears a red tag labeled “D09-X”. On Sundays, she walks 2 miles to Central Park with Max and her cat Luna.\n",
      "\n",
      "\n",
      " ['albanian', 'arabic', 'azerbaijani', 'basque', 'belarusian', 'bengali', 'catalan', 'chinese', 'danish', 'dutch', 'english', 'finnish', 'french', 'german', 'greek', 'hebrew', 'hinglish', 'hungarian', 'indonesian', 'italian', 'kazakh', 'nepali', 'norwegian', 'portuguese', 'romanian', 'russian', 'slovene', 'spanish', 'swedish', 'tajik', 'tamil', 'turkish']\n",
      "\n",
      " {'were', \"she'd\", 'mustn', 'yours', \"needn't\", 'nor', 'you', 'his', \"don't\", \"we're\", 'herself', 'such', 'not', 'in', \"aren't\", 'into', 'but', 'your', \"he's\", \"they'll\", 'only', 'again', \"haven't\", 'about', 'me', 'we', 'against', 'wasn', 'can', 'now', 'at', 'further', \"should've\", 'them', \"mustn't\", \"we've\", 'down', 'be', 'of', \"hadn't\", 'itself', 'under', 'just', \"wouldn't\", 'ours', 'needn', 'myself', 'isn', \"shouldn't\", 'him', \"it'd\", 'where', 'any', 't', 'mightn', 'am', 'ain', 'is', \"he'd\", \"you're\", 'from', 'was', 'yourself', \"he'll\", 'most', 'whom', 'with', 'doesn', \"it'll\", \"hasn't\", 'through', 'shan', 'couldn', \"wasn't\", 'why', 'o', 'the', 'ma', 'hers', 'as', \"she's\", 'my', 'both', 'she', 'should', 'between', 'out', \"they'd\", \"they're\", 'wouldn', 'have', 'after', 'its', 'aren', 'when', \"mightn't\", 'off', 'until', 'how', 'd', 'these', 'didn', 'other', 'm', \"i've\", 'who', 'then', 'won', \"you'd\", \"you've\", 'for', 'so', 'themselves', 're', 'are', 'a', 'before', 'which', 'if', 'her', \"didn't\", 'there', \"she'll\", \"they've\", \"we'd\", 'hadn', 'don', 'on', 'doing', 'very', 'those', 'haven', 'up', 'and', \"doesn't\", 'they', 'some', 'this', 'that', 'or', \"weren't\", 'each', 'over', 'an', 's', 'does', 'been', 'during', 'few', 'had', 'because', 've', \"isn't\", 'here', \"shan't\", 'no', \"won't\", 'ourselves', 'by', 'having', 'himself', 'than', 'll', \"that'll\", 'above', 'did', 'own', \"couldn't\", \"i'm\", 'their', 'i', 'once', 'theirs', \"i'd\", 'below', 'all', 'shouldn', 'our', \"you'll\", \"we'll\", \"it's\", 'while', 'will', 'yourselves', 'it', 'too', 'same', 'being', \"i'll\", 'he', 'more', 'y', 'to', 'weren', 'has', 'hasn', 'do', 'what'}\n",
      "\n",
      " lena 3 cats 1 dog . bought 2020 petworld-77 . every day 6:00 , feeds near porch . dog , max , wears red tag labeled “ d09-x ” . sundays , walks 2 miles central park max cat luna .\n"
     ]
    }
   ],
   "source": [
    "inp=\"Lena has 3 cats and 1 dog. She bought them in 2020 from PetWorld-77. Every day at 6:00 AM, she feeds them near her porch. Her dog, Max, wears a red tag labeled “D09-X”. On Sundays, she walks 2 miles to Central Park with Max and her cat Luna.\"\n",
    "print(inp+'\\n')\n",
    "\n",
    "import nltk.corpus\n",
    "from nltk import word_tokenize\n",
    "from nltk.corpus import stopwords\n",
    "text1=inp.lower()\n",
    "text2=word_tokenize(text1)\n",
    "\n",
    "CROK1=stopwords.fileids() #contains languages available for applying stopwords\n",
    "print('\\n',CROK1)\n",
    "CROK2=set(stopwords.words('english')) #to check what stopwords are present in a language.\n",
    "print('\\n',CROK2)\n",
    "\n",
    "NSW = []  #list of Non Stop Words \n",
    "\n",
    "#tpo\n",
    "for token in text2:\n",
    "    if token not in CROK2: \n",
    "        NSW.append(token)\n",
    "\n",
    "print ('\\n',' '.join(NSW))"
   ]
  }
 ],
 "metadata": {
  "kernelspec": {
   "display_name": "Python 3",
   "language": "python",
   "name": "python3"
  },
  "language_info": {
   "codemirror_mode": {
    "name": "ipython",
    "version": 3
   },
   "file_extension": ".py",
   "mimetype": "text/x-python",
   "name": "python",
   "nbconvert_exporter": "python",
   "pygments_lexer": "ipython3",
   "version": "3.13.5"
  }
 },
 "nbformat": 4,
 "nbformat_minor": 5
}
