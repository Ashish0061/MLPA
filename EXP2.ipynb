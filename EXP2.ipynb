{
 "cells": [
  {
   "cell_type": "code",
   "execution_count": null,
   "id": "4ace3272",
   "metadata": {},
   "outputs": [
    {
     "name": "stdout",
     "output_type": "stream",
     "text": [
      "['barack', 'obama', 'ha', 'been', 'as', 'a', 'prime', 'minist', 'of', 'usa', 'in', 'the', 'year', 'of', '2015', '.', 'pm', 'modi', 'is', 'the', 'prime', 'minist', 'of', 'india', '.']\n"
     ]
    }
   ],
   "source": [
    "#STEMMER\n",
    "\n",
    "import nltk\n",
    "from nltk import word_tokenize\n",
    "\n",
    "from nltk.stem import PorterStemmer \n",
    "\n",
    "inp = \"Barack Obama has been as a prime minister of USA in the year of 2015 . Yaswanth is the prime minister of INDIA.\"\n",
    "CROK= word_tokenize(inp.lower())\n",
    "CROK1=[] #empty list to store stemmed tokens\n",
    "\n",
    "for token in CROK:\n",
    "    CROK1.append(PorterStemmer().stem(token))\n",
    "    \n",
    "#PortStemmer is used to remove suffixes or prefixes or both from a word and gives the rest\n",
    "#The words formed might not be valid all the times ex:-(has-->ha)\n",
    "#here PorterStemmer() is an object and stem() is a function and token is the parameter/argument passed to the function stem()\n",
    "#CROK1.append() will get the stemmed tokens added into the empty list CROK1\n",
    "#PorterStemmer is a class and stem() is a method of that class\n",
    "print(CROK1)"
   ]
  },
  {
   "cell_type": "code",
   "execution_count": 2,
   "id": "9f85df08",
   "metadata": {},
   "outputs": [
    {
     "name": "stdout",
     "output_type": "stream",
     "text": [
      "['cheetah', 'have', 'be', 'well', 'faster', 'and', 'hot', 'than', 'most', 'animal', 'around', 'the', 'globe', '.']\n"
     ]
    }
   ],
   "source": [
    "#LEMMATIZER\n",
    "import nltk\n",
    "from nltk import word_tokenize,pos_tag\n",
    "from nltk.stem import WordNetLemmatizer\n",
    "from nltk.corpus import wordnet\n",
    "\n",
    "def get_wordnet_pos(tag):\n",
    "    if tag.startswith('J'):\n",
    "        return wordnet.ADJ\n",
    "    elif tag.startswith('V'):\n",
    "        return wordnet.VERB\n",
    "    elif tag.startswith('N'):\n",
    "        return wordnet.NOUN\n",
    "    elif tag.startswith('R'):\n",
    "        return wordnet.ADV\n",
    "    else:\n",
    "        return wordnet.NOUN\n",
    "\n",
    "#get_wordnet_pos(tag): is a function that converts the POS tag to wordnet format that WordNetLemmatizer can understand.\n",
    "#here tag is the part of speech of the word and it is passed as an argument to the function get_wordnet_pos(tag) which returns the wordnet format of the POS tag.\n",
    "#it follows penn tree format for POS tagging where J is adjective, V is verb, N is noun, R is adverb and the rest are considered as noun by default.\n",
    "\n",
    "inp='CHEETAH HAS BEEN BETTER FASTER AND HOTTEST THAN MOST ANIMALS AROUND THE GLOBE.'\n",
    "CROK=(word_tokenize(inp.lower()))\n",
    "CROK2=pos_tag(CROK)\n",
    "CROK1=[] #empty list to store lemmatized tokens\n",
    "\n",
    "for token, tag in CROK2:\n",
    "    CROK1.append(WordNetLemmatizer().lemmatize(token,get_wordnet_pos(tag)))\n",
    "\n",
    "#WordNetLemmatizer().lemmatize(token,get_wordnet_pos(tag)) is used to get root dictionaried word by rooting the words parts of speech using POS take\n",
    "#here WordNetLemmatizer() is an object and lemmatize() is a function and token,get_wordnet_pos(tag) are the parameters/arguments passed to the function lemmatize()\n",
    "#CROK1.append() will get the Lemmatized tokens added into the empty list CROK1\n",
    "#WordNetLemmatizer is a class and lemmatize() is a method of that class\n",
    "print(CROK1)"
   ]
  }
 ],
 "metadata": {
  "kernelspec": {
   "display_name": "Python 3",
   "language": "python",
   "name": "python3"
  },
  "language_info": {
   "codemirror_mode": {
    "name": "ipython",
    "version": 3
   },
   "file_extension": ".py",
   "mimetype": "text/x-python",
   "name": "python",
   "nbconvert_exporter": "python",
   "pygments_lexer": "ipython3",
   "version": "3.13.5"
  }
 },
 "nbformat": 4,
 "nbformat_minor": 5
}
