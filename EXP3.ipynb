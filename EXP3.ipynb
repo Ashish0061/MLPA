{
 "cells": [
  {
   "cell_type": "markdown",
   "id": "dc74ed96-d5e4-4a23-a7ce-53dcf7a1d896",
   "metadata": {},
   "source": [
    "NAME ENTITY RECOGNITION [NER]"
   ]
  },
  {
   "cell_type": "code",
   "execution_count": null,
   "id": "ef11d8ab-ba64-4581-935c-dfee1f96ce7c",
   "metadata": {},
   "outputs": [
    {
     "name": "stdout",
     "output_type": "stream",
     "text": [
      "(S\n",
      "  The/DT\n",
      "  (ORGANIZATION Raksha/NNP Bandhan/NNP)\n",
      "  is/VBZ\n",
      "  celebrated/VBN\n",
      "  by/IN\n",
      "  (PERSON Gopi/NNP Chand/NNP))\n",
      "\n",
      "['Raksha Bandhan', 'Gopi Chand']\n"
     ]
    }
   ],
   "source": [
    "#NER USING ne_chunk\n",
    "import nltk\n",
    "from nltk import word_tokenize,pos_tag,ne_chunk\n",
    "\n",
    "#note:- ne_chunk is used to recognize named entities such as person,geo political entity(city or organization),date,etc.\n",
    "\n",
    "inp='The Raksha Bandhan is celebrated by Yaswanth'\n",
    "\n",
    "CROK=ne_chunk(pos_tag(word_tokenize(inp)))\n",
    "#working of CROK:inp-->tokens-->pos tags with tokens-->distribution of named entity\n",
    "\n",
    "print(CROK)\n",
    "''' \n",
    "  Output-1:-\n",
    "  S\n",
    "  The/DT (SubTree 1)\n",
    "  (ORGANIZATION Raksha/NNP Bandhan/NNP) (SubTree 2)\n",
    "  is/VBZ (SubTree 3)\n",
    "  celebrated/VBN (SubTree 4)\n",
    "  by/IN (SubTree 5)\n",
    "  (PERSON Gopi/NNP Chand/NNP) (SubTree 6)\n",
    "\n",
    "  #note:- named entities are represented using ()\n",
    "'''\n",
    "print() #empty line\n",
    "\n",
    "from nltk.tree import Tree\n",
    "Named_Entity=[] #empty list\n",
    "\n",
    "for subtree in CROK: #1\n",
    "    if isinstance(subtree,Tree):  #2\n",
    "        Named_Entity.append(\" \".join(token for token,pos in subtree.leaves())) #3\n",
    "        \n",
    "''' Working of for loop:-\n",
    "    1.Goes through every subtree of the tree in a loop\n",
    "    2.Condtion to check if the sub tree has named entities or not. If it is true then following gets executed.\n",
    "      Ex:- subtree 2 and 6 are Named entities\n",
    "    3.1.Token for token,pos in subtree.leaves() :- takes token and ignores pos tags from leaf nodes.\n",
    "      Ex:-from sub tree 2, Raksha/NNP and bandhan/NNP are two leaf nodes. their pos_tags(NNP) gets ignored taking only 'Raksha' and 'Bandhan'\n",
    "    3.2. \" \".join will merge the two named entity tokens we get. anything in between \" \" comesin between those two joined tokens (space in this case)\n",
    "    3.3.Named_Entity.append() will get the joined named entity tokens added into the empty list Named_Entity '''\n",
    "\n",
    "print(Named_Entity)\n",
    "#OUTPUT-2:- ['Raksha Bandhan', 'Gopi Chand']"
   ]
  },
  {
   "cell_type": "code",
   "execution_count": null,
   "id": "4c9df7f2-d5c9-4627-8a04-71869829a1b5",
   "metadata": {},
   "outputs": [],
   "source": []
  }
 ],
 "metadata": {
  "kernelspec": {
   "display_name": "Python 3 (ipykernel)",
   "language": "python",
   "name": "python3"
  },
  "language_info": {
   "codemirror_mode": {
    "name": "ipython",
    "version": 3
   },
   "file_extension": ".py",
   "mimetype": "text/x-python",
   "name": "python",
   "nbconvert_exporter": "python",
   "pygments_lexer": "ipython3",
   "version": "3.13.5"
  }
 },
 "nbformat": 4,
 "nbformat_minor": 5
}
